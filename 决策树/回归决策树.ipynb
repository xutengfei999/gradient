{
 "cells": [
  {
   "cell_type": "code",
   "execution_count": 53,
   "metadata": {},
   "outputs": [],
   "source": [
    "import numpy as np\n",
    "from sklearn import datasets\n",
    "from sklearn.pipeline import Pipeline\n",
    "from sklearn.model_selection import train_test_split\n",
    "from sklearn.preprocessing import PolynomialFeatures,StandardScaler\n",
    "from sklearn.tree import DecisionTreeRegressor"
   ]
  },
  {
   "cell_type": "code",
   "execution_count": 58,
   "metadata": {},
   "outputs": [],
   "source": [
    "boston = datasets.load_boston()\n",
    "x = boston.data[:,5].reshape(-1,1)\n",
    "y = boston.target"
   ]
  },
  {
   "cell_type": "markdown",
   "metadata": {},
   "source": [
    "## 回归决策树预测房价"
   ]
  },
  {
   "cell_type": "code",
   "execution_count": 59,
   "metadata": {},
   "outputs": [],
   "source": [
    "X_train,X_test,y_train,y_test = train_test_split(x,y,test_size=0.2,random_state=666)"
   ]
  },
  {
   "cell_type": "code",
   "execution_count": 60,
   "metadata": {},
   "outputs": [],
   "source": [
    "def get_pipeline(n):\n",
    "    return Pipeline([\n",
    "        (\"poly\",PolynomialFeatures(degree=n)),\n",
    "        (\"standard_scaler\",StandardScaler()),\n",
    "        (\"dtr\",DecisionTreeRegressor())\n",
    "    ])"
   ]
  },
  {
   "cell_type": "code",
   "execution_count": 61,
   "metadata": {},
   "outputs": [
    {
     "name": "stdout",
     "output_type": "stream",
     "text": [
      "[30.1  33.2  21.5  36.2  21.7  21.1  13.1  23.1  26.7  10.2  23.1  23.1\n",
      " 36.2  16.7  17.1  25.   27.9  15.   19.9  13.4  26.7  20.   13.1  35.2\n",
      "  7.5  26.4  19.1  20.2  36.2  30.3  44.   23.7  23.2  19.8  16.6  19.4\n",
      " 36.   14.1  22.6  18.2  19.6  16.6  22.8  14.3  29.1  22.7  13.4  29.8\n",
      " 23.2  22.   24.6   7.5  36.   18.9  27.   20.6   8.3  21.5  24.85 16.6\n",
      " 19.1  21.55 24.1  18.9   5.   10.4  13.3  21.7  50.   13.4  19.3  33.2\n",
      " 20.35 14.8  43.8  23.3  14.9  17.7  19.3  32.7  27.5  19.1  14.4  28.5\n",
      " 36.2  13.8  21.7  23.1  13.6  24.85 20.5  34.6  16.7  29.8  22.   22.5\n",
      " 26.2  27.5  15.4  10.5  24.6  11.7 ]\n"
     ]
    }
   ],
   "source": [
    "pipe = get_pipeline(1)\n",
    "pipe.fit(X_train,y_train)\n",
    "y_predict = pipe.predict(X_test)\n",
    "print(y_predict)"
   ]
  },
  {
   "cell_type": "code",
   "execution_count": 62,
   "metadata": {},
   "outputs": [
    {
     "data": {
      "text/plain": [
       "0.053965050228935385"
      ]
     },
     "execution_count": 62,
     "metadata": {},
     "output_type": "execute_result"
    }
   ],
   "source": [
    "pipe.score(X_test,y_test)"
   ]
  },
  {
   "cell_type": "code",
   "execution_count": null,
   "metadata": {},
   "outputs": [],
   "source": []
  }
 ],
 "metadata": {
  "kernelspec": {
   "display_name": "Python 3",
   "language": "python",
   "name": "python3"
  },
  "language_info": {
   "codemirror_mode": {
    "name": "ipython",
    "version": 3
   },
   "file_extension": ".py",
   "mimetype": "text/x-python",
   "name": "python",
   "nbconvert_exporter": "python",
   "pygments_lexer": "ipython3",
   "version": "3.6.5"
  }
 },
 "nbformat": 4,
 "nbformat_minor": 2
}
