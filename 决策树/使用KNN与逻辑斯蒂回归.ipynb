{
 "cells": [
  {
   "cell_type": "code",
   "execution_count": 1,
   "metadata": {},
   "outputs": [],
   "source": [
    "import numpy as np\n",
    "from sklearn import datasets\n",
    "from sklearn.neighbors import KNeighborsClassifier\n",
    "from sklearn.linear_model import LogisticRegression\n",
    "from sklearn.model_selection import train_test_split"
   ]
  },
  {
   "cell_type": "code",
   "execution_count": 2,
   "metadata": {},
   "outputs": [],
   "source": [
    "digits = datasets.load_digits()\n",
    "X = digits.data\n",
    "y = digits.target"
   ]
  },
  {
   "cell_type": "code",
   "execution_count": 3,
   "metadata": {},
   "outputs": [],
   "source": [
    "X_train,X_test,y_train,y_test = train_test_split(X,y,test_size=0.2,random_state=666)"
   ]
  },
  {
   "cell_type": "markdown",
   "metadata": {},
   "source": [
    "KNN分类"
   ]
  },
  {
   "cell_type": "code",
   "execution_count": 4,
   "metadata": {},
   "outputs": [
    {
     "name": "stdout",
     "output_type": "stream",
     "text": [
      "KNN分类准确率： 0.9888888888888889\n"
     ]
    }
   ],
   "source": [
    "knn_clf = KNeighborsClassifier()\n",
    "knn_clf.fit(X_train,y_train)\n",
    "knn_score = knn_clf.score(X_test,y_test)\n",
    "print(\"KNN分类准确率：\",knn_score)"
   ]
  },
  {
   "cell_type": "markdown",
   "metadata": {},
   "source": [
    "## 逻辑回归分类"
   ]
  },
  {
   "cell_type": "code",
   "execution_count": 5,
   "metadata": {},
   "outputs": [
    {
     "name": "stdout",
     "output_type": "stream",
     "text": [
      "逻辑回归的分类准确率： 0.95\n",
      "逻辑回归的分类结果： [8 1 3 4 4 0 7 0 8 0 4 6 1 1 2 0 1 6 7 3 3 6 5 2 3 4 0 2 0 3 0 8 7 2 3 5 1\n",
      " 3 1 5 8 6 2 6 3 1 3 0 0 4 9 9 2 8 7 0 5 4 0 9 5 5 8 8 4 2 8 8 7 8 4 3 0 2\n",
      " 7 2 1 2 4 0 9 0 6 6 2 0 0 5 4 4 3 1 3 1 6 4 4 7 5 6 8 4 8 4 6 1 7 7 0 8 8\n",
      " 3 9 7 1 8 4 2 7 0 0 4 9 6 7 3 4 6 4 8 4 7 2 6 3 5 8 7 2 5 5 9 9 9 8 1 9 4\n",
      " 4 8 5 1 6 4 4 8 1 5 2 5 2 1 4 4 3 9 4 0 6 0 8 3 8 7 3 0 3 5 5 9 2 7 1 8 1\n",
      " 4 3 3 7 8 2 7 2 2 8 0 5 7 6 7 3 4 7 1 7 0 9 3 8 9 3 8 9 1 1 1 9 8 8 0 3 7\n",
      " 3 3 4 8 2 1 8 6 0 1 7 7 5 8 3 8 7 6 8 4 2 6 2 8 7 4 9 3 5 0 6 3 8 3 3 1 4\n",
      " 3 3 2 5 6 9 6 9 5 5 3 6 5 9 3 7 7 0 2 1 9 9 9 2 5 6 1 9 6 8 7 7 4 5 0 0 5\n",
      " 3 8 4 4 3 2 5 3 2 2 3 0 9 8 2 1 4 0 6 2 8 0 6 4 9 9 8 3 9 8 6 3 2 7 9 4 2\n",
      " 7 5 1 1 6 1 0 4 8 2 9 0 3 3 0 7 4 8 5 9 5 9 5 0 7 9 8]\n"
     ]
    }
   ],
   "source": [
    "log_reg = LogisticRegression(multi_class=\"ovr\")\n",
    "log_reg.fit(X_train,y_train)\n",
    "logistic_score = log_reg.score(X_test,y_test)\n",
    "logistic_predict = log_reg.predict(X_test)\n",
    "print(\"逻辑回归的分类准确率：\",logistic_score)\n",
    "print(\"逻辑回归的分类结果：\",logistic_predict)"
   ]
  },
  {
   "cell_type": "code",
   "execution_count": null,
   "metadata": {},
   "outputs": [],
   "source": []
  }
 ],
 "metadata": {
  "kernelspec": {
   "display_name": "Python 3",
   "language": "python",
   "name": "python3"
  },
  "language_info": {
   "codemirror_mode": {
    "name": "ipython",
    "version": 3
   },
   "file_extension": ".py",
   "mimetype": "text/x-python",
   "name": "python",
   "nbconvert_exporter": "python",
   "pygments_lexer": "ipython3",
   "version": "3.6.5"
  }
 },
 "nbformat": 4,
 "nbformat_minor": 2
}
